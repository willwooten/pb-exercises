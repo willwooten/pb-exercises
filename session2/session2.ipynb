{
 "cells": [
  {
   "cell_type": "code",
   "execution_count": 1,
   "id": "6d37c6a3",
   "metadata": {},
   "outputs": [],
   "source": [
    "############## PLEASE RUN THIS CELL FIRST! ###################\n",
    "\n",
    "# import everything and define a test runner function\n",
    "from importlib import reload\n",
    "from helper import run\n",
    "import ecc, helper"
   ]
  },
  {
   "cell_type": "code",
   "execution_count": 3,
   "id": "f1b71341",
   "metadata": {},
   "outputs": [
    {
     "output_type": "stream",
     "name": "stdout",
     "text": [
      "True\n"
     ]
    }
   ],
   "source": [
    "# Verify curve Example\n",
    "prime = 137\n",
    "x, y = 73, 128\n",
    "print(y**2 % prime == (x**3 + 7) % prime)"
   ]
  },
  {
   "cell_type": "markdown",
   "id": "1637a655",
   "metadata": {},
   "source": [
    "### Exercise 1\n",
    "Find out which points are valid on the curve \\\\( y^2 = x^3 + 7: F_{223} \\\\)\n",
    "```\n",
    "(192,105), (17,56), (200,119), (1,193), (42,99)\n",
    "```\n"
   ]
  },
  {
   "cell_type": "code",
   "execution_count": 4,
   "id": "2cd5e917",
   "metadata": {},
   "outputs": [
    {
     "output_type": "stream",
     "name": "stdout",
     "text": [
      "(192,105) is on the curve\n(17,56) is on the curve\n(200,119) is not on the curve\n(1,193) is on the curve\n(42,99) is not on the curve\n"
     ]
    }
   ],
   "source": [
    "# Exercise 1\n",
    "\n",
    "from ecc import FieldElement, Point\n",
    "prime = 223\n",
    "a = FieldElement(0, prime)\n",
    "b = FieldElement(7, prime)\n",
    "points = ((192,105), (17,56), (200,119), (1,193), (42,99))\n",
    "# iterate over points\n",
    "for x_raw, y_raw in points:\n",
    "    # Initialize points this way:\n",
    "    x = FieldElement(x_raw, prime)\n",
    "    y = FieldElement(y_raw, prime)\n",
    "\n",
    "    # try initializing, ValueError means not on curve\n",
    "    # print whether on curve\n",
    "    try:\n",
    "        p = Point(x, y, a, b)\n",
    "        print(f'({x_raw},{y_raw}) is on the curve')\n",
    "    except ValueError:\n",
    "         print(f'({x_raw},{y_raw}) is not on the curve')\n",
    "\n",
    "\n",
    "\n"
   ]
  },
  {
   "cell_type": "markdown",
   "id": "158c6b9b",
   "metadata": {},
   "source": [
    "### Exercise 2\n",
    "\n",
    "\n",
    "\n",
    "\n",
    "#### Make [this test](/edit/session2/ecc.py) pass: `ecc.py:ECCTest:test_on_curve`"
   ]
  },
  {
   "cell_type": "code",
   "execution_count": 5,
   "id": "9680ebcb",
   "metadata": {},
   "outputs": [
    {
     "output_type": "stream",
     "name": "stderr",
     "text": [
      ".\n",
      "----------------------------------------------------------------------\n",
      "Ran 1 test in 0.004s\n",
      "\n",
      "OK\n"
     ]
    }
   ],
   "source": [
    "# Exercise 2\n",
    "\n",
    "reload(ecc)\n",
    "run(ecc.ECCTest('test_on_curve'))"
   ]
  },
  {
   "cell_type": "code",
   "execution_count": 6,
   "id": "418e37d9",
   "metadata": {},
   "outputs": [
    {
     "output_type": "stream",
     "name": "stdout",
     "text": [
      "Point(99,49)_137\n"
     ]
    }
   ],
   "source": [
    "from ecc import FieldElement, Point\n",
    "# Example where x1 != x2\n",
    "prime = 137\n",
    "a = FieldElement(0, prime)\n",
    "b = FieldElement(7, prime)\n",
    "p1 = Point(FieldElement(73, prime), FieldElement(128, prime), a, b)\n",
    "p2 = Point(FieldElement(46, prime), FieldElement(22, prime), a, b)\n",
    "print(p1+p2)"
   ]
  },
  {
   "cell_type": "markdown",
   "id": "68b8db88",
   "metadata": {},
   "source": [
    "### Exercise 3\n",
    "Find the following point additions on the curve  \\\\( y^2 = x^3 + 7: F_{223} \\\\)\n",
    "```\n",
    "(192,105) + (17,56), (47,71) + (117,141), (143,98) + (76,66)\n",
    "```\n"
   ]
  },
  {
   "cell_type": "code",
   "execution_count": 7,
   "id": "4887aea4",
   "metadata": {},
   "outputs": [
    {
     "output_type": "stream",
     "name": "stdout",
     "text": [
      "Point(192,105)_223 + Point(17,56)_223 = Point(170,142)_223\nPoint(47,71)_223 + Point(117,141)_223 = Point(60,139)_223\nPoint(143,98)_223 + Point(76,66)_223 = Point(47,71)_223\n"
     ]
    }
   ],
   "source": [
    "# Exercise 3\n",
    "\n",
    "prime = 223\n",
    "a = FieldElement(0, prime)\n",
    "b = FieldElement(7, prime)\n",
    "additions = ((192, 105, 17, 56), (47, 71, 117, 141), (143, 98, 76, 66))\n",
    "# iterate over the additions to be done\n",
    "for x1_raw, y1_raw, x2_raw, y2_raw in additions:\n",
    "    # Initialize points this way:\n",
    "    x1 = FieldElement(x1_raw, prime)\n",
    "    y1 = FieldElement(y1_raw, prime)\n",
    "    p1 = Point(x1, y1, a, b)\n",
    "    x2 = FieldElement(x2_raw, prime)\n",
    "    y2 = FieldElement(y2_raw, prime)\n",
    "    p2 = Point(x2, y2, a, b)\n",
    "    print(f'{p1} + {p2} = {p1+p2}')\n",
    "\n",
    "\n",
    "\n",
    "    # print p1+p2\n"
   ]
  },
  {
   "cell_type": "markdown",
   "id": "2110dbfe",
   "metadata": {},
   "source": [
    "### Exercise 4\n",
    "\n",
    "\n",
    "\n",
    "\n",
    "#### Make [this test](/edit/session2/ecc.py) pass: `ecc.py:ECCTest:test_add`"
   ]
  },
  {
   "cell_type": "code",
   "execution_count": 8,
   "id": "d20b3480",
   "metadata": {},
   "outputs": [
    {
     "output_type": "stream",
     "name": "stderr",
     "text": [
      ".\n",
      "----------------------------------------------------------------------\n",
      "Ran 1 test in 0.004s\n",
      "\n",
      "OK\n"
     ]
    }
   ],
   "source": [
    "# Exercise 4\n",
    "\n",
    "reload(ecc)\n",
    "run(ecc.ECCTest('test_add'))"
   ]
  },
  {
   "cell_type": "code",
   "execution_count": 9,
   "id": "65ea6398",
   "metadata": {},
   "outputs": [
    {
     "output_type": "stream",
     "name": "stdout",
     "text": [
      "Point(103,76)_137\n"
     ]
    }
   ],
   "source": [
    "from ecc import FieldElement, Point\n",
    "# Example where x1 != x2\n",
    "prime = 137\n",
    "a = FieldElement(0, prime)\n",
    "b = FieldElement(7, prime)\n",
    "p = Point(FieldElement(73, prime), FieldElement(128, prime), a, b)\n",
    "print(p+p)"
   ]
  },
  {
   "cell_type": "markdown",
   "id": "9e47086d",
   "metadata": {},
   "source": [
    "### Exercise 5\n",
    "Find the following scalar multiplications on the curve  \\\\( y^2 = x^3 + 7: F_{223} \\\\)\n",
    "\n",
    "* 2*(192,105)\n",
    "* 2*(143,98)\n",
    "* 2*(47,71)\n",
    "* 4*(47,71)\n",
    "* 8*(47,71)\n",
    "* 21*(47,71)\n",
    "\n",
    "#### Hint: add the point to itself n times\n"
   ]
  },
  {
   "cell_type": "code",
   "execution_count": 10,
   "id": "da8df7eb",
   "metadata": {},
   "outputs": [
    {
     "output_type": "stream",
     "name": "stdout",
     "text": [
      "Point(49,71)_223\nPoint(64,168)_223\nPoint(36,111)_223\nPoint(194,51)_223\nPoint(116,55)_223\nPoint(infinity)\n"
     ]
    }
   ],
   "source": [
    "# Exercise 5\n",
    "\n",
    "prime = 223\n",
    "a = FieldElement(0, prime)\n",
    "b = FieldElement(7, prime)\n",
    "multiplications = ((2, 192, 105), (2, 143, 98), (2, 47, 71), (4, 47, 71), (8, 47, 71), (21, 47, 71))\n",
    "# iterate over the multiplications\n",
    "for n, x_raw, y_raw in multiplications:\n",
    "    # Initialize points this way:\n",
    "    x = FieldElement(x_raw, prime)\n",
    "    y = FieldElement(y_raw, prime)\n",
    "    p = Point(x, y, a, b)\n",
    "\n",
    "    # start product at 0 (point at infinity)\n",
    "    product = Point(None, None, a, b)\n",
    "    # loop over n times (n is 2, 4, 8 or 21 in the above examples)\n",
    "    for _ in range(n):\n",
    "        # add the point to the product\n",
    "        product = p + product\n",
    "    # print product\n",
    "    print(product)"
   ]
  },
  {
   "cell_type": "code",
   "execution_count": 28,
   "id": "ba702c09",
   "metadata": {},
   "outputs": [
    {
     "output_type": "stream",
     "name": "stdout",
     "text": [
      "1:Point(47,71)_223\n2:Point(36,111)_223\n3:Point(15,137)_223\n4:Point(194,51)_223\n5:Point(126,96)_223\n6:Point(139,137)_223\n7:Point(92,47)_223\n8:Point(116,55)_223\n9:Point(69,86)_223\n10:Point(154,150)_223\n11:Point(154,73)_223\n12:Point(69,137)_223\n13:Point(116,168)_223\n14:Point(92,176)_223\n15:Point(139,86)_223\n16:Point(126,127)_223\n17:Point(194,172)_223\n18:Point(15,86)_223\n19:Point(36,112)_223\n20:Point(47,152)_223\n21:Point(infinity)\n"
     ]
    }
   ],
   "source": [
    "from ecc import FieldElement, Point\n",
    "# Group Example\n",
    "prime = 223\n",
    "a = FieldElement(0, prime)\n",
    "b = FieldElement(7, prime)\n",
    "g = Point(FieldElement(47, prime), FieldElement(71, prime), a, b)\n",
    "inf = Point(None, None, a, b)\n",
    "total = g\n",
    "count = 1\n",
    "while total != inf:\n",
    "    print(f'{count}:{total}')\n",
    "    total += g\n",
    "    count += 1\n",
    "print(f'{count}:{total}')"
   ]
  },
  {
   "cell_type": "markdown",
   "id": "55598839",
   "metadata": {},
   "source": [
    "### Exercise 6\n",
    "Find out what the order of the group generated by (15, 86) is on  \\\\( y^2 = x^3 + 7: F_{223} \\\\)\n",
    "\n",
    "#### Hint: add the point to itself until you get the point at infinity\n"
   ]
  },
  {
   "cell_type": "code",
   "execution_count": 11,
   "id": "463493e2",
   "metadata": {},
   "outputs": [
    {
     "output_type": "stream",
     "name": "stdout",
     "text": [
      "7\n"
     ]
    }
   ],
   "source": [
    "# Exercise 6\n",
    "\n",
    "prime = 223\n",
    "a = FieldElement(0, prime)\n",
    "b = FieldElement(7, prime)\n",
    "x = FieldElement(15, prime)\n",
    "y = FieldElement(86, prime)\n",
    "p = Point(x, y, a, b)\n",
    "inf = Point(None, None, a, b)\n",
    "# start product at point\n",
    "product = p  #/\n",
    "# start counter at 1\n",
    "counter = 1  #/\n",
    "# loop until you get point at infinity (0)\n",
    "while product != inf:  #/\n",
    "    # add the point to the product\n",
    "    product += p  #/\n",
    "    # increment counter\n",
    "    counter += 1  #/\n",
    "# print counter\n",
    "print(counter)  #/"
   ]
  },
  {
   "cell_type": "markdown",
   "id": "eca64d02",
   "metadata": {},
   "source": [
    "### Exercise 7\n",
    "\n",
    "\n",
    "\n",
    "\n",
    "#### Make [this test](/edit/session2/ecc.py) pass: `ecc.py:ECCTest:test_rmul`"
   ]
  },
  {
   "cell_type": "code",
   "execution_count": 13,
   "id": "8b0c728c",
   "metadata": {},
   "outputs": [
    {
     "output_type": "stream",
     "name": "stderr",
     "text": [
      ".\n",
      "----------------------------------------------------------------------\n",
      "Ran 1 test in 0.004s\n",
      "\n",
      "OK\n"
     ]
    }
   ],
   "source": [
    "# Exercise 7\n",
    "\n",
    "reload(ecc)\n",
    "run(ecc.ECCTest('test_rmul'))"
   ]
  },
  {
   "cell_type": "code",
   "execution_count": 14,
   "id": "3ac60e04",
   "metadata": {},
   "outputs": [
    {
     "output_type": "stream",
     "name": "stdout",
     "text": [
      "True\n"
     ]
    }
   ],
   "source": [
    "# Confirgming G is on the curve\n",
    "p = 2**256 - 2**32 - 977\n",
    "x = 0x79BE667EF9DCBBAC55A06295CE870B07029BFCDB2DCE28D959F2815B16F81798\n",
    "y = 0x483ADA7726A3C4655DA4FBFC0E1108A8FD17B448A68554199C47D08FFB10D4B8\n",
    "print(y**2 % p == (x**3 + 7) % p)"
   ]
  },
  {
   "cell_type": "code",
   "execution_count": 15,
   "id": "f65874a4",
   "metadata": {},
   "outputs": [
    {
     "output_type": "stream",
     "name": "stdout",
     "text": [
      "S256Point(infinity)\n"
     ]
    }
   ],
   "source": [
    "# Confirming order of G is n\n",
    "from ecc import G\n",
    "n = 0xFFFFFFFFFFFFFFFFFFFFFFFFFFFFFFFEBAAEDCE6AF48A03BBFD25E8CD0364141\n",
    "print(n*G)"
   ]
  },
  {
   "cell_type": "code",
   "execution_count": 16,
   "id": "07510330",
   "metadata": {},
   "outputs": [
    {
     "output_type": "stream",
     "name": "stdout",
     "text": [
      "S256Point(9680241112d370b56da22eb535745d9e314380e568229e09f7241066003bc471,ddac2d377f03c201ffa0419d6596d10327d6c70313bb492ff495f946285d8f38)\n"
     ]
    }
   ],
   "source": [
    "# Getting the public point from a secret\n",
    "from ecc import G\n",
    "secret = 999\n",
    "point = secret*G\n",
    "print(point)"
   ]
  },
  {
   "cell_type": "markdown",
   "id": "a575ac85",
   "metadata": {},
   "source": [
    "### Exercise 8\n",
    "Get the public point where the scalar is the following:\n",
    "\n",
    "* 7\n",
    "* 1485\n",
    "* \\\\(2^{128}\\\\)\n",
    "* \\\\(2^{240}+2^{31}\\\\)\n"
   ]
  },
  {
   "cell_type": "code",
   "execution_count": 18,
   "id": "98de55af",
   "metadata": {},
   "outputs": [
    {
     "output_type": "stream",
     "name": "stdout",
     "text": [
      "S256Point(5cbdf0646e5db4eaa398f365f2ea7a0e3d419b7e0330e39ce92bddedcac4f9bc,6aebca40ba255960a3178d6d861a54dba813d0b813fde7b5a5082628087264da)\nS256Point(c982196a7466fbbbb0e27a940b6af926c1a74d5ad07128c82824a11b5398afda,7a91f9eae64438afb9ce6448a1c133db2d8fb9254e4546b6f001637d50901f55)\nS256Point(8f68b9d2f63b5f339239c1ad981f162ee88c5678723ea3351b7b444c9ec4c0da,662a9f2dba063986de1d90c2b6be215dbbea2cfe95510bfdf23cbf79501fff82)\nS256Point(9577ff57c8234558f293df502ca4f09cbc65a6572c842b39b366f21717945116,10b49c67fa9365ad7b90dab070be339a1daf9052373ec30ffae4f72d5e66d053)\n"
     ]
    }
   ],
   "source": [
    "# Exercise 8\n",
    "\n",
    "from ecc import G\n",
    "secrets = (7, 1485, 2**128, 2**240+2**31)\n",
    "# iterate over secrets\n",
    "for s in secrets:\n",
    "    # get the public point\n",
    "    point = s*G\n",
    "    print(point)"
   ]
  },
  {
   "cell_type": "markdown",
   "id": "53fccdc9",
   "metadata": {},
   "source": [
    "### Exercise 9\n",
    "\n",
    "\n",
    "\n",
    "\n",
    "#### Make [this test](/edit/session2/ecc.py) pass: `ecc.py:S256Test:test_pubpoint`"
   ]
  },
  {
   "cell_type": "code",
   "execution_count": 20,
   "id": "308fb3cc",
   "metadata": {},
   "outputs": [
    {
     "output_type": "stream",
     "name": "stderr",
     "text": [
      ".\n",
      "----------------------------------------------------------------------\n",
      "Ran 1 test in 0.161s\n",
      "\n",
      "OK\n"
     ]
    }
   ],
   "source": [
    "# Exercise 9\n",
    "\n",
    "reload(ecc)\n",
    "run(ecc.S256Test('test_pubpoint'))"
   ]
  },
  {
   "cell_type": "code",
   "execution_count": 22,
   "id": "41103dd3",
   "metadata": {},
   "outputs": [
    {
     "output_type": "stream",
     "name": "stdout",
     "text": [
      "b'\\x04\\\\\\xbd\\xf0dn]\\xb4\\xea\\xa3\\x98\\xf3e\\xf2\\xeaz\\x0e=A\\x9b~\\x030\\xe3\\x9c\\xe9+\\xdd\\xed\\xca\\xc4\\xf9\\xbcj\\xeb\\xca@\\xba%Y`\\xa3\\x17\\x8dm\\x86\\x1aT\\xdb\\xa8\\x13\\xd0\\xb8\\x13\\xfd\\xe7\\xb5\\xa5\\x08&(\\x08rd\\xda'\n045cbdf0646e5db4eaa398f365f2ea7a0e3d419b7e0330e39ce92bddedcac4f9bc6aebca40ba255960a3178d6d861a54dba813d0b813fde7b5a5082628087264da\n025cbdf0646e5db4eaa398f365f2ea7a0e3d419b7e0330e39ce92bddedcac4f9bc\n"
     ]
    }
   ],
   "source": [
    "# SEC Example\n",
    "from ecc import S256Point\n",
    "point = S256Point(0x5CBDF0646E5DB4EAA398F365F2EA7A0E3D419B7E0330E39CE92BDDEDCAC4F9BC, 0x6AEBCA40BA255960A3178D6D861A54DBA813D0B813FDE7B5A5082628087264DA)\n",
    "uncompressed = b'\\x04' + point.x.num.to_bytes(32, 'big') + point.y.num.to_bytes(32, 'big')\n",
    "print(uncompressed)\n",
    "print(uncompressed.hex())\n",
    "if point.y.num % 2 == 1:\n",
    "    compressed = b'\\x03' + point.x.num.to_bytes(32, 'big')\n",
    "else:\n",
    "    compressed = b'\\x02' + point.x.num.to_bytes(32, 'big')\n",
    "print(compressed.hex())"
   ]
  },
  {
   "cell_type": "markdown",
   "id": "0b7496a0",
   "metadata": {},
   "source": [
    "### Exercise 10\n",
    "Find the compressed and uncompressed SEC format for pub keys where the private keys are:\n",
    "```\n",
    "999**3, 123, 42424242\n",
    "```\n"
   ]
  },
  {
   "cell_type": "code",
   "execution_count": 37,
   "id": "1b4f8b51",
   "metadata": {},
   "outputs": [
    {
     "output_type": "stream",
     "name": "stdout",
     "text": [
      "049d5ca49670cbe4c3bfa84c96a8c87df086c6ea6a24ba6b809c9de234496808d56fa15cc7f3d38cda98dee2419f415b7513dde1301f8643cd9245aea7f3f911f9\n029d5ca49670cbe4c3bfa84c96a8c87df086c6ea6a24ba6b809c9de234496808d5\n04a598a8030da6d86c6bc7f2f5144ea549d28211ea58faa70ebf4c1e665c1fe9b5204b5d6f84822c307e4b4a7140737aec23fc63b65b35f86a10026dbd2d864e6b\n02a598a8030da6d86c6bc7f2f5144ea549d28211ea58faa70ebf4c1e665c1fe9b5\n04aee2e7d843f7430097859e2bc603abcc3274ff8169c1a469fee0f20614066f8e21ec53f40efac47ac1c5211b2123527e0e9b57ede790c4da1e72c91fb7da54a3\n02aee2e7d843f7430097859e2bc603abcc3274ff8169c1a469fee0f20614066f8e\n"
     ]
    }
   ],
   "source": [
    "# Exercise 10\n",
    "\n",
    "from ecc import G\n",
    "secrets = (999**3, 123, 42424242)\n",
    "# iterate through secrets\n",
    "for s in secrets:\n",
    "    # get public point\n",
    "    point = s * G\n",
    "    # uncompressed - b'\\x04' followed by x coord, then y coord\n",
    "    uncompressed = b'\\x04' + point.x.num.to_bytes(32, 'big') + point.y.num.to_bytes(32, 'big')\n",
    "    # here's how you express a coordinate in bytes: some_integer.to_bytes(32, 'big')\n",
    "\n",
    "    # compressed - b'\\x02'/b'\\x03' follewed by x coord. 02 if y is even, 03 otherwise\n",
    "    if point.y.num % 2 == 1:\n",
    "        compressed = b'\\x02'+ point.x.num.to_bytes(32, 'big')\n",
    "    else:\n",
    "        compressed = b'\\x03'+ point.x.num.to_bytes(32, 'big')\n",
    "\n",
    "\n",
    "\n",
    "    # print the .hex() of both\n",
    "    print(uncompressed.hex())\n",
    "    print(compressed.hex())\n"
   ]
  },
  {
   "cell_type": "markdown",
   "id": "44a1e35f",
   "metadata": {},
   "source": [
    "### Exercise 11\n",
    "\n",
    "\n",
    "\n",
    "\n",
    "#### Make [this test](/edit/session2/ecc.py) pass: `ecc.py:S256Test:test_sec`"
   ]
  },
  {
   "cell_type": "code",
   "execution_count": 32,
   "id": "da66a344",
   "metadata": {},
   "outputs": [
    {
     "output_type": "stream",
     "name": "stderr",
     "text": [
      ".\n",
      "----------------------------------------------------------------------\n",
      "Ran 1 test in 0.055s\n",
      "\n",
      "OK\n"
     ]
    }
   ],
   "source": [
    "# Exercise 11\n",
    "\n",
    "reload(ecc)\n",
    "run(ecc.S256Test('test_sec'))"
   ]
  },
  {
   "cell_type": "code",
   "execution_count": 33,
   "id": "d2fde3c3",
   "metadata": {},
   "outputs": [
    {
     "output_type": "stream",
     "name": "stdout",
     "text": [
      "19ZewH8Kk1PDbSNdJ97FP4EiCjTRaZMZQA\n"
     ]
    }
   ],
   "source": [
    "# Address Example\n",
    "from helper import encode_base58, hash160, hash256\n",
    "sec = bytes.fromhex('025CBDF0646E5DB4EAA398F365F2EA7A0E3D419B7E0330E39CE92BDDEDCAC4F9BC')\n",
    "h160 = hash160(sec)\n",
    "raw = b'\\x00' + h160\n",
    "raw = raw + hash256(raw)[:4]\n",
    "addr = encode_base58(raw)\n",
    "print(addr)"
   ]
  },
  {
   "cell_type": "markdown",
   "id": "6d71450f",
   "metadata": {},
   "source": [
    "### Exercise 12\n",
    "Find the mainnet and testnet addresses corresponding to the private keys:\n",
    "\n",
    "* \\\\(888^3\\\\), compressed\n",
    "* 321, uncompressed\n",
    "* 4242424242, uncompressed\n"
   ]
  },
  {
   "cell_type": "code",
   "execution_count": 38,
   "id": "41235297",
   "metadata": {},
   "outputs": [
    {
     "output_type": "stream",
     "name": "stdout",
     "text": [
      "mieaqB68xDCtbUBYFoUNcmZNwk74xcBfTP\nmfx3y63A7TfTtXKkv7Y6QzsPFY6QCBCXiP\nmgY3bVusRUL6ZB2Ss999CSrGVbdRwVpM8s\n"
     ]
    }
   ],
   "source": [
    "# Exercise 12\n",
    "\n",
    "from ecc import G\n",
    "from helper import encode_base58, hash160, hash256\n",
    "components = (\n",
    "    # (secret, compressed)\n",
    "    (888**3, True),\n",
    "    (321, False),\n",
    "    (4242424242, False),\n",
    ")\n",
    "# iterate through components\n",
    "for s, c in components:\n",
    "    # get the public point\n",
    "    point = s * G\n",
    "    # get the sec format\n",
    "    sec = point.sec(c)\n",
    "    # hash160 the result\n",
    "    h160 = hash160(sec)\n",
    "    # prepend b'\\x00' for mainnet b'\\x6f' for testnet\n",
    "    raw = b'\\x6f' + h160\n",
    "    # get the hash256 of the raw, first 4 bytes are the checksum\n",
    "    # append checksum\n",
    "    raw = raw + hash256(raw)[:4]\n",
    "    # encode_base58 the whole thing\n",
    "    addr = encode_base58(raw)\n",
    "    print(addr)"
   ]
  },
  {
   "cell_type": "markdown",
   "id": "96aa96da",
   "metadata": {},
   "source": [
    "### Exercise 13\n",
    "\n",
    "\n",
    "\n",
    "\n",
    "#### Make [this test](/edit/session2/helper.py) pass: `helper.py:HelperTest:test_encode_base58_checksum`"
   ]
  },
  {
   "cell_type": "code",
   "execution_count": 39,
   "id": "7cfea057",
   "metadata": {},
   "outputs": [
    {
     "output_type": "stream",
     "name": "stderr",
     "text": [
      ".\n",
      "----------------------------------------------------------------------\n",
      "Ran 1 test in 0.002s\n",
      "\n",
      "OK\n"
     ]
    }
   ],
   "source": [
    "# Exercise 13\n",
    "\n",
    "reload(helper)\n",
    "run(helper.HelperTest('test_encode_base58_checksum'))"
   ]
  },
  {
   "cell_type": "markdown",
   "id": "8f49fecb",
   "metadata": {},
   "source": [
    "### Exercise 14\n",
    "\n",
    "\n",
    "\n",
    "\n",
    "#### Make [this test](/edit/session2/ecc.py) pass: `ecc.py:S256Test:test_address`"
   ]
  },
  {
   "cell_type": "code",
   "execution_count": 40,
   "id": "c846e39f",
   "metadata": {},
   "outputs": [
    {
     "output_type": "stream",
     "name": "stderr",
     "text": [
      ".\n",
      "----------------------------------------------------------------------\n",
      "Ran 1 test in 0.051s\n",
      "\n",
      "OK\n"
     ]
    }
   ],
   "source": [
    "# Exercise 14\n",
    "\n",
    "reload(ecc)\n",
    "run(ecc.S256Test('test_address'))"
   ]
  },
  {
   "cell_type": "markdown",
   "id": "87aac5f4",
   "metadata": {},
   "source": [
    "### Exercise 15\n",
    "Create a testnet address using your own secret key (use your name and email as the password if you can't think of anything). Record this secret key for tomorrow!\n"
   ]
  },
  {
   "cell_type": "code",
   "execution_count": 45,
   "id": "93faee4f",
   "metadata": {},
   "outputs": [
    {
     "output_type": "execute_result",
     "data": {
      "text/plain": [
       "'mkMSDHmUsvFF7q9dvWRdbr7W4etFav1upZ'"
      ]
     },
     "metadata": {},
     "execution_count": 45
    }
   ],
   "source": [
    "# Exercise 15\n",
    "\n",
    "from ecc import G\n",
    "from helper import little_endian_to_int, hash256\n",
    "\n",
    "# use a passphrase\n",
    "passphrase = b'weweresomewherearoundbarstowontheedgeofthedesertwhenthedrugsbegantotakeholdiremembersayingsomethinglikeifeelabitlightheadedmaybeyoushoulddriveandsuddenlytherewasaterribleroarallaroundusandtheskywasfullofwhatlookedlikehugebatsallswoopingandscreechinganddivingaroundthecarwhichwasgoingaboutahundredmilesanhourwiththetopdowntolasvegasandavoicewasscreamingholyjesuswhatarethesegoddamnanimalsthenitwasquietagainmyattorneyhadtakenhisshirtoffandwaspouringbeeronhischesttofacilitatethetanningprocesswhatthehellareyouyellingabouthemutteredstaringupatthesunwithhiseyesclosedandcoveredwithwraparoundspanishsunglassesnevermindisaidItsyourturntodriveihitthebrakesandaimedthegreatredsharktowardtheshoulderofthehighwaynopointmentioningthosebatsithoughtthepoorbastardwillseethemsoonenough'\n",
    "\n",
    "secret = little_endian_to_int(hash256(passphrase))\n",
    "\n",
    "# get the public point\n",
    "point = secret * G\n",
    "\n",
    "# if you completed exercise 14, just do the .address(testnet=True) method on the public point\n",
    "\n",
    "point.address(testnet = True)\n"
   ]
  },
  {
   "cell_type": "code",
   "execution_count": null,
   "metadata": {},
   "outputs": [],
   "source": []
  }
 ],
 "metadata": {
  "kernelspec": {
   "name": "python394jvsc74a57bd089aca9ea00a738503437ec83eeb74c7494da0ff55fcc5fe5248da860e25fc079",
   "display_name": "Python 3.9.4 64-bit"
  },
  "language_info": {
   "codemirror_mode": {
    "name": "ipython",
    "version": 3
   },
   "file_extension": ".py",
   "mimetype": "text/x-python",
   "name": "python",
   "nbconvert_exporter": "python",
   "pygments_lexer": "ipython3",
   "version": "3.9.4"
  },
  "metadata": {
   "interpreter": {
    "hash": "89aca9ea00a738503437ec83eeb74c7494da0ff55fcc5fe5248da860e25fc079"
   }
  }
 },
 "nbformat": 4,
 "nbformat_minor": 5
}