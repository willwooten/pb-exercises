{
 "cells": [
  {
   "cell_type": "code",
   "execution_count": 1,
   "id": "7122aab2",
   "metadata": {},
   "outputs": [],
   "source": [
    "############## PLEASE RUN THIS CELL FIRST! ###################\n",
    "\n",
    "# import everything and define a test runner function\n",
    "from importlib import reload\n",
    "from helper import run\n",
    "import helper, op, script, tx"
   ]
  },
  {
   "cell_type": "markdown",
   "id": "c41edc71",
   "metadata": {},
   "source": [
    "### Exercise 1\n",
    "\n",
    "\n",
    "\n",
    "\n",
    "#### Make [this test](/edit/session5/tx.py) pass: `tx.py:TxTest:test_verify_p2pkh`"
   ]
  },
  {
   "cell_type": "code",
   "execution_count": 2,
   "id": "64f68d7b",
   "metadata": {},
   "outputs": [
    {
     "output_type": "stream",
     "name": "stderr",
     "text": [
      ".\n",
      "----------------------------------------------------------------------\n",
      "Ran 1 test in 0.524s\n",
      "\n",
      "OK\n"
     ]
    }
   ],
   "source": [
    "# Exercise 1\n",
    "\n",
    "reload(tx)\n",
    "run(tx.TxTest('test_verify_p2pkh'))"
   ]
  },
  {
   "cell_type": "code",
   "execution_count": 3,
   "id": "bf852c6c",
   "metadata": {},
   "outputs": [
    {
     "output_type": "stream",
     "name": "stdout",
     "text": [
      "0100000001494127dba8aea354ebae1de80c2d7a2a223eed27666a85bce371de3790f6e28b040000006b483045022100fa3032607b50e8cb05bedc9d43f986f19dedc22e61320b9765061c5cd9c66946022072d514ef637988515bfa59a660596206de68f0ed4090d0a398e70f4d81370dfb012103935581e52c354cd2f484fe8ed83af7a3097005b2f9c60bff71d35bd795f54b67ffffffff0280d54302000000001976a914d52ad7ca9b3d096a38e752c2018e6fbc40cdf26f88ac80969800000000001976a914507b27411ccf7f16f10297de6cef3f291623eddf88ac00000000\n"
     ]
    }
   ],
   "source": [
    "# Transaction Construction Example\n",
    "from ecc import PrivateKey # needed to sign the tx\n",
    "from helper import decode_base58, SIGHASH_ALL # decode base converts address to hash needed P2PKH\n",
    "from script import p2pkh_script, Script # calculates z P2PH\n",
    "from tx import Tx, TxIn, TxOut\n",
    "\n",
    "# Step 1\n",
    "tx_ins = []\n",
    "prev_tx = bytes.fromhex('8be2f69037de71e3bc856a6627ed3e222a7a2d0ce81daeeb54a3aea8db274149')\n",
    "prev_index = 4\n",
    "tx_ins.append(TxIn(prev_tx, prev_index))\n",
    "\n",
    "# Step 2\n",
    "tx_outs = []\n",
    "\n",
    "    # CHANGE BACK TO MYSELF\n",
    "h160 = decode_base58('mzx5YhAH9kNHtcN481u6WkjeHjYtVeKVh2')\n",
    "tx_outs.append(TxOut(\n",
    "    amount=int(0.38*100000000),\n",
    "    script_pubkey=p2pkh_script(h160),\n",
    "))\n",
    "    # TO RECIPIENT\n",
    "h160 = decode_base58('mnrVtF8DWjMu839VW3rBfgYaAfKk8983Xf')\n",
    "tx_outs.append(TxOut(\n",
    "    amount=int(0.1*100000000),\n",
    "    script_pubkey=p2pkh_script(h160),\n",
    "))\n",
    "\n",
    "    # version, tx_ins, tx_outs, index, testnet\n",
    "tx_obj = Tx(1, tx_ins, tx_outs, 0, testnet=True)\n",
    "\n",
    "# Step 3\n",
    "z = tx_obj.sig_hash(0)\n",
    "# print(z) 39632174008676238049387290821569513652244231797557994875840378150192119985579\n",
    "pk = PrivateKey(secret=8675309)\n",
    "# print(pk) <ecc.PrivateKey object at 0x000001BC5ACC7D00>\n",
    "der = pk.sign(z).der()\n",
    "# print(der) b'0E\\x02!\\x00\\xfa02`{P\\xe8\\xcb\\x05\\xbe\\xdc\\x9dC\\xf9\\x86\\xf1\\x9d\\xed\\xc2.a2\\x0b\\x97e\\x06\\x1c\\\\\\xd9\\xc6iF\\x02 r\\xd5\\x14\\xefcy\\x88Q[\\xfaY\\xa6`Yb\\x06\\xdeh\\xf0\\xed@\\x90\\xd0\\xa3\\x98\\xe7\\x0fM\\x817\\r\\xfb'\n",
    "sig = der + SIGHASH_ALL.to_bytes(1, 'big')\n",
    "# print(sig) b'0E\\x02!\\x00\\xfa02`{P\\xe8\\xcb\\x05\\xbe\\xdc\\x9dC\\xf9\\x86\\xf1\\x9d\\xed\\xc2.a2\\x0b\\x97e\\x06\\x1c\\\\\\xd9\\xc6iF\\x02 r\\xd5\\x14\\xefcy\\x88Q[\\xfaY\\xa6`Yb\\x06\\xdeh\\xf0\\xed@\\x90\\xd0\\xa3\\x98\\xe7\\x0fM\\x817\\r\\xfb\\x01'\n",
    "sec = pk.point.sec()\n",
    "# print(sec) b'\\x03\\x93U\\x81\\xe5,5L\\xd2\\xf4\\x84\\xfe\\x8e\\xd8:\\xf7\\xa3\\tp\\x05\\xb2\\xf9\\xc6\\x0b\\xffq\\xd3[\\xd7\\x95\\xf5Kg'\n",
    "tx_obj.tx_ins[0].script_sig = Script([sig, sec]) # unlocks tx to be spent\n",
    "# print(tx_obj) tx: 3b998df74ac249d3f787cae4d43f29ab6ea6dd70f48d53d8f941aa0524d8d6cb\n",
    "# version: 1\n",
    "# tx_ins:\n",
    "# 8be2f69037de71e3bc856a6627ed3e222a7a2d0ce81daeeb54a3aea8db274149:4\n",
    "# tx_outs:\n",
    "# 38000000:OP_DUP OP_HASH160 d52ad7ca9b3d096a38e752c2018e6fbc40cdf26f OP_EQUALVERIFY # OP_CHECKSIG 10000000:OP_DUP OP_HASH160 507b27411ccf7f16f10297de6cef3f291623eddf OP_EQUALVERIFY OP_CHECKSIG\n",
    "# locktime: 0\n",
    "\n",
    "print(tx_obj.serialize().hex())\n",
    "\n",
    "# FULL TX:\n",
    "# 0100000001494127dba8aea354ebae1de80c2d7a2a223eed27666a85bce371de3790f6e28b040000006b483045022100fa3032607b50e8cb05bedc9d43f986f19dedc22e61320b9765061c5cd9c66946022072d514ef637988515bfa59a660596206de68f0ed4090d0a398e70f4d81370dfb012103935581e52c354cd2f484fe8ed83af7a3097005b2f9c60bff71d35bd795f54b67ffffffff0280d54302000000001976a914d52ad7ca9b3d096a38e752c2018e6fbc40cdf26f88ac80969800000000001976a914507b27411ccf7f16f10297de6cef3f291623eddf88ac00000000\n",
    "\n",
    "# VERSION: 01000000\n",
    "# NUM OF INPUTS: 01\n",
    "# PREV HASH: 494127dba8aea354ebae1de80c2d7a2a223eed27666a85bce371de3790f6e28b040000006b483045022100fa3032607b50e8cb05bedc9d43f986f19dedc22e61320b9765061c5cd9c66946022072d514ef637988515bfa59a660596206de68f0ed4090d0a398e70f4d81370dfb012103935581e52c354cd2f484fe8ed83af7a3097005b2f9c60bff71d35bd795f54b67ffffffff0280d54302000000001976a914d52ad7ca9b3d096a38e752c2018e6fbc40cdf26f88ac\n",
    "# VALUE OF OUTPUT: 8096980000000000\n",
    "# SCRIPT PUB KEY: 1976a914507b27411ccf7f16f10297de6cef3f291623eddf88ac\n",
    "# LOCKTIME: 00000000"
   ]
  },
  {
   "cell_type": "markdown",
   "id": "8956bb01",
   "metadata": {},
   "source": [
    "### Exercise 2\n",
    "\n",
    "\n",
    "\n",
    "\n",
    "#### Make [this test](/edit/session5/tx.py) pass: `tx.py:TxTest:test_sign_input`"
   ]
  },
  {
   "cell_type": "code",
   "execution_count": 4,
   "id": "35ff585e",
   "metadata": {},
   "outputs": [
    {
     "output_type": "stream",
     "name": "stderr",
     "text": [
      ".\n",
      "----------------------------------------------------------------------\n",
      "Ran 1 test in 0.477s\n",
      "\n",
      "OK\n"
     ]
    }
   ],
   "source": [
    "# Exercise 2\n",
    "\n",
    "reload(tx)\n",
    "run(tx.TxTest('test_sign_input'))"
   ]
  },
  {
   "cell_type": "markdown",
   "id": "0eb8165e",
   "metadata": {},
   "source": [
    "### Exercise 3\n",
    "Send 0.04 TBTC to this address\n",
    "\n",
    "`mqYz6JpuKukHzPg94y4XNDdPCEJrNkLQcv`\n",
    "\n",
    "#### Go here to send your transaction: https://blockstream.info/testnet/tx/push\n"
   ]
  },
  {
   "cell_type": "code",
   "execution_count": 5,
   "id": "786136b2",
   "metadata": {},
   "outputs": [
    {
     "output_type": "stream",
     "name": "stdout",
     "text": [
      "01000000017c656e612f54e0d8b198635d152acb2480cc3c0739bd8dc85203874542635a8f010000006b483045022100cfad521e7dd2ad2aabf515bb3bc8e2f9b4b6233a882d420d7ac889f5f0a2ef3a02205442b3aa7e3918033e00a64bdca2f21291e385cf6e9a64950aa7622c7fc7d71e0121020ed2cf0fbc53d3485416abfe82630c5a8f5f0e70a8279253fdb638d4a0d73c37ffffffff0200093d00000000001976a9146e13971913b9aa89659a9f53d327baa8826f2d7588ac30ca5a00000000001976a914350bc6220a4cc18cc52f665a04cbeb7fe2a3450c88ac00000000\n"
     ]
    }
   ],
   "source": [
    "# Exercise 3\n",
    "\n",
    "from tx import Tx, TxIn, TxOut\n",
    "from helper import decode_base58, hash256, little_endian_to_int\n",
    "from script import p2pkh_script\n",
    "prev_tx = bytes.fromhex('8f5a634245870352c88dbd39073ccc8024cb2a155d6398b1d8e0542f616e657c')  # CHANGE\n",
    "prev_index = 1  # CHANGE\n",
    "target_address = 'mqYz6JpuKukHzPg94y4XNDdPCEJrNkLQcv'\n",
    "target_amount = 0.04\n",
    "fee = 50000\n",
    "passphrase = b'weweresomewherearoundbarstowontheedgeofthedesertwhenthedrugsbegantotakeholdiremembersayingsomethinglikeifeelabitlightheadedmaybeyoushoulddriveandsuddenlytherewasaterribleroarallaroundusandtheskywasfullofwhatlookedlikehugebatsallswoopingandscreechinganddivingaroundthecarwhichwasgoingaboutahundredmilesanhourwiththetopdowntolasvegasandavoicewasscreamingholyjesuswhatarethesegoddamnanimalsthenitwasquietagainmyattorneyhadtakenhisshirtoffandwaspouringbeeronhischesttofacilitatethetanningprocesswhatthehellareyouyellingabouthemutteredstaringupatthesunwithhiseyesclosedandcoveredwithwraparoundspanishsunglassesnevermindisaidItsyourturntodriveihitthebrakesandaimedthegreatredsharktowardtheshoulderofthehighwaynopointmentioningthosebatsithoughtthepoorbastardwillseethemsoonenough'\n",
    "\n",
    "secret = little_endian_to_int(hash256(passphrase))\n",
    "private_key = PrivateKey(secret=secret)\n",
    "change_address = private_key.point.address(testnet=True)\n",
    "\n",
    "# initialize inputs\n",
    "tx_ins = []\n",
    "\n",
    "# create a new tx input with prev_tx, prev_index\n",
    "tx_ins.append(TxIn(prev_tx, prev_index))\n",
    "\n",
    "# initialize outputs\n",
    "tx_outs = []\n",
    "\n",
    "# decode the hash160 from the target address\n",
    "target_h160 = decode_base58(target_address)\n",
    "\n",
    "# convert hash160 to p2pkh script\n",
    "target_script_pubkey = p2pkh_script(target_h160)\n",
    "\n",
    "# convert target amount to satoshis (multiply by 100 million)\n",
    "target_satoshis = int(target_amount*100000000)\n",
    "\n",
    "# create a new tx output for target with amount and script_pubkey\n",
    "tx_outs.append(TxOut(target_satoshis, target_script_pubkey)) \n",
    "\n",
    "# decode the hash160 from the change address\n",
    "change_h160 = decode_base58(change_address)\n",
    "\n",
    "# convert hash160 to p2pkh script\n",
    "change_script_pubkey = p2pkh_script(change_h160)\n",
    "\n",
    "# get the value for the transaction input (remember testnet=True)\n",
    "prev_amount = tx_ins[0].value(testnet=True)\n",
    "\n",
    "# calculate change_satoshis based on previous amount, target_satoshis & fee\n",
    "change_satoshis = prev_amount - target_satoshis - fee\n",
    "\n",
    "# create a new tx output for target with amount and script_pubkey\n",
    "tx_outs.append(TxOut(change_satoshis, change_script_pubkey))\n",
    "\n",
    "# create the transaction (name it tx_obj and set testnet=True)\n",
    "tx_obj = Tx(1, tx_ins, tx_outs, 0, testnet=True)\n",
    "\n",
    "# now sign the 0th input with the private_key using sign_input\n",
    "tx_obj.sign_input(0, private_key)\n",
    "\n",
    "# SANITY CHECK: change address corresponds to private key\n",
    "if private_key.point.address(testnet=True) != change_address:\n",
    "    raise RuntimeError('Private Key does not correspond to Change Address, check priv_key and change_address')\n",
    "\n",
    "# SANITY CHECK: output's script_pubkey is the same one as your address\n",
    "if tx_ins[0].script_pubkey(testnet=True).commands[2] != decode_base58(change_address):\n",
    "    raise RuntimeError('Output is not something you can spend with this private key. Check that the prev_tx and prev_index are correct')\n",
    "\n",
    "# SANITY CHECK: fee is reasonable\n",
    "if tx_obj.fee() > 0.05*100000000 or tx_obj.fee() <= 0:\n",
    "    raise RuntimeError(f'Check that the change amount is reasonable. Fee is {tx_obj.fee()}')\n",
    "\n",
    "# serialize and hex()\n",
    "print(tx_obj.serialize().hex())\n"
   ]
  },
  {
   "cell_type": "markdown",
   "id": "66b9d9fe",
   "metadata": {},
   "source": [
    "### Exercise 4\n",
    "#### Bonus Question. Only attempt if you've finished Exercise 3 and have time to try it.\n",
    "\n",
    "Get some testnet coins and spend both outputs (one from your change address and one from the testnet faucet) to\n",
    "\n",
    "`mqYz6JpuKukHzPg94y4XNDdPCEJrNkLQcv`\n",
    "\n",
    "#### You can get some free testnet coins at: https://testnet.coinfaucet.eu/en/\n"
   ]
  },
  {
   "cell_type": "code",
   "execution_count": 102,
   "id": "6d643d6c",
   "metadata": {},
   "outputs": [
    {
     "output_type": "stream",
     "name": "stdout",
     "text": [
      "prev_amount: 0.0532779\nsent to: 0.05\nfee: 0.0005\nchange: 0.0027779\n0100000001e7e03576190d12c62e7a3e04466b3e0daf2ec686cd7df604ba1134c351c283cd110000006a47304402202f1df7f30f5f5c0447905c042e9fa4d8aed07cf4bb03bc10031103512c2ce5f0022044f328eb6a83ddc3cf5596fbab94e4e75ddd23a54fb32827c483eb7545a26d4601210382e136daa948bccd9a655040820e94ab5ae32ef921f5c7dc4c0bab1a33f87ce7ffffffff02404b4c00000000001976a9146e13971913b9aa89659a9f53d327baa8826f2d7588ac1e3d0400000000001976a91426c5dfbdc872916d51d5e3f6f7ac15ddb331b1ea88ac00000000\n"
     ]
    }
   ],
   "source": [
    "# Exercise 4\n",
    "\n",
    "# Bonus\n",
    "from tx import Tx, TxIn, TxOut\n",
    "from helper import decode_base58, hash256, little_endian_to_int\n",
    "from script import p2pkh_script\n",
    "prev_tx = bytes.fromhex('cd83c251c33411ba04f67dcd86c62eaf0d3e6b46043e7a2ec6120d197635e0e7')  # CHANGE\n",
    "prev_index = 17  # CHANGE\n",
    "target_address = 'mqYz6JpuKukHzPg94y4XNDdPCEJrNkLQcv'\n",
    "target_amount = 0.05\n",
    "fee = 50000\n",
    "passphrase = b'i wish you good luck in your tribulations'\n",
    "\n",
    "\n",
    "secret = little_endian_to_int(hash256(passphrase))\n",
    "private_key = PrivateKey(secret=secret)\n",
    "change_address = private_key.point.address(testnet=True)\n",
    "\n",
    "# initialize inputs\n",
    "tx_ins = []\n",
    "\n",
    "# create a new tx input with prev_tx, prev_index\n",
    "tx_ins.append(TxIn(prev_tx, prev_index))\n",
    "\n",
    "# initialize outputs\n",
    "tx_outs = []\n",
    "\n",
    "# decode the hash160 from the target address\n",
    "target_h160 = decode_base58(target_address)\n",
    "\n",
    "# convert hash160 to p2pkh script\n",
    "target_script_pubkey = p2pkh_script(target_h160)\n",
    "\n",
    "# convert target amount to satoshis (multiply by 100 million)\n",
    "target_satoshis = int(target_amount*100000000)\n",
    "\n",
    "# create a new tx output for target with amount and script_pubkey\n",
    "tx_outs.append(TxOut(target_satoshis, target_script_pubkey)) \n",
    "\n",
    "# decode the hash160 from the change address\n",
    "change_h160 = decode_base58(change_address)\n",
    "\n",
    "# convert hash160 to p2pkh script\n",
    "change_script_pubkey = p2pkh_script(change_h160)\n",
    "\n",
    "# get the value for the transaction input (remember testnet=True)\n",
    "prev_amount = tx_ins[0].value(testnet=True)\n",
    "\n",
    "# calculate change_satoshis based on previous amount, target_satoshis & fee\n",
    "change_satoshis = prev_amount - target_satoshis - fee\n",
    "\n",
    "# create a new tx output for target with amount and script_pubkey\n",
    "tx_outs.append(TxOut(change_satoshis, change_script_pubkey))\n",
    "\n",
    "# create the transaction (name it tx_obj and set testnet=True)\n",
    "tx_obj = Tx(1, tx_ins, tx_outs, 0, testnet=True)\n",
    "\n",
    "# now sign the 0th input with the private_key using sign_input\n",
    "tx_obj.sign_input(0, private_key)\n",
    "\n",
    "# SANITY CHECK: change address corresponds to private key\n",
    "if private_key.point.address(testnet=True) != change_address:\n",
    "    raise RuntimeError('Private Key does not correspond to Change Address, check priv_key and change_address')\n",
    "\n",
    "# SANITY CHECK: output's script_pubkey is the same one as your address\n",
    "if tx_ins[0].script_pubkey(testnet=True).commands[2] != decode_base58(change_address):\n",
    "    raise RuntimeError('Output is not something you can spend with this private key. Check that the prev_tx and prev_index are correct')\n",
    "\n",
    "# SANITY CHECK: fee is reasonable\n",
    "if tx_obj.fee() > 0.05*100000000 or tx_obj.fee() <= 0:\n",
    "    raise RuntimeError(f'Check that the change amount is reasonable. Fee is {tx_obj.fee()}')\n",
    "\n",
    "# serialize and hex()\n",
    "# change_satoshis = prev_amount - target_satoshis - fee\n",
    "print(\"prev_amount: \" + str(prev_amount / 100000000))\n",
    "print(\"sent to: \" + str(target_satoshis / 100000000))\n",
    "print(\"fee: \" + str(fee / 100000000))\n",
    "print(\"change: \" + str(change_satoshis / 100000000))\n",
    "print(tx_obj.serialize().hex())\n"
   ]
  },
  {
   "cell_type": "code",
   "execution_count": 103,
   "id": "50208e84",
   "metadata": {},
   "outputs": [],
   "source": [
    "# op_checkmultisig\n",
    "def op_checkmultisig(stack, z):\n",
    "    if len(stack) < 1:\n",
    "        return False\n",
    "    n = decode_num(stack.pop())\n",
    "    if len(stack) < n + 1:\n",
    "        return False\n",
    "    sec_pubkeys = []\n",
    "    for _ in range(n):\n",
    "        sec_pubkeys.append(stack.pop())\n",
    "    m = decode_num(stack.pop())\n",
    "    if len(stack) < m + 1:\n",
    "        return False\n",
    "    der_signatures = []\n",
    "    for _ in range(m):\n",
    "        # signature is assumed to be using SIGHASH_ALL\n",
    "        der_signatures.append(stack.pop()[:-1])\n",
    "    # OP_CHECKMULTISIG bug\n",
    "    stack.pop()\n",
    "    try:\n",
    "        raise NotImplementedError\n",
    "    except (ValueError, SyntaxError):\n",
    "        return False\n",
    "    return True"
   ]
  },
  {
   "cell_type": "markdown",
   "id": "2a292617",
   "metadata": {},
   "source": [
    "### Exercise 5\n",
    "\n",
    "\n",
    "\n",
    "\n",
    "#### Make [this test](/edit/session5/op.py) pass: `op.py:OpTest:test_op_checkmultisig`"
   ]
  },
  {
   "cell_type": "code",
   "execution_count": 116,
   "id": "6625644e",
   "metadata": {},
   "outputs": [
    {
     "output_type": "stream",
     "name": "stderr",
     "text": [
      ".\n",
      "----------------------------------------------------------------------\n",
      "Ran 1 test in 0.546s\n",
      "\n",
      "OK\n"
     ]
    }
   ],
   "source": [
    "# Exercise 5\n",
    "\n",
    "reload(op)\n",
    "reload(script)\n",
    "run(op.OpTest('test_op_checkmultisig'))"
   ]
  },
  {
   "cell_type": "markdown",
   "id": "08b5d2e1",
   "metadata": {},
   "source": [
    "### Exercise 6\n",
    "Find the hash160 of the RedeemScript\n",
    "```\n",
    "5221022626e955ea6ea6d98850c994f9107b036b1334f18ca8830bfff1295d21cfdb702103b287eaf122eea69030a0e9feed096bed8045c8b98bec453e1ffac7fbdbd4bb7152ae\n",
    "```\n"
   ]
  },
  {
   "cell_type": "code",
   "execution_count": 117,
   "id": "4d2040f1",
   "metadata": {},
   "outputs": [
    {
     "output_type": "stream",
     "name": "stdout",
     "text": [
      "74d691da1574e6b3c192ecfb52cc8984ee7b6c56\n"
     ]
    }
   ],
   "source": [
    "# Exercise 6\n",
    "\n",
    "# P2SH\n",
    "\n",
    "# 52 OP_2\n",
    "# Length of Key: 21 \n",
    "# Key: 022626e955ea6ea6d98850c994f9107b036b1334f18ca8830bfff1295d21cfdb70\n",
    "# Length of Key: 21\n",
    "# Key: 03b287eaf122eea69030a0e9feed096bed8045c8b98bec453e1ffac7fbdbd4bb71\n",
    "# 52 OP_2\n",
    "# ae OP_CHECKMULTISIG\n",
    "\n",
    "from helper import hash160\n",
    "hex_redeem_script = '5221022626e955ea6ea6d98850c994f9107b036b1334f18ca8830bfff1295d21cfdb702103b287eaf122eea69030a0e9feed096bed8045c8b98bec453e1ffac7fbdbd4bb7152ae'\n",
    "# bytes.fromhex script\n",
    "redeem_script = bytes.fromhex(hex_redeem_script)\n",
    "# hash160 result\n",
    "h160 = hash160(redeem_script)\n",
    "# hex() to display\n",
    "print(h160.hex())\n",
    "# 74d691da1574e6b3c192ecfb52cc8984ee7b6c56"
   ]
  },
  {
   "cell_type": "code",
   "execution_count": 106,
   "id": "0df8015c",
   "metadata": {},
   "outputs": [
    {
     "output_type": "stream",
     "name": "stdout",
     "text": [
      "3CLoMMyuoDQTPRD3XYZtCvgvkadrAdvdXh\n"
     ]
    }
   ],
   "source": [
    "# P2SH address construction example\n",
    "from helper import encode_base58_checksum\n",
    "# \\x05  = mainnet\n",
    "print(encode_base58_checksum(b'\\x05'+bytes.fromhex('74d691da1574e6b3c192ecfb52cc8984ee7b6c56')))"
   ]
  },
  {
   "cell_type": "markdown",
   "id": "4d829c3c",
   "metadata": {},
   "source": [
    "### Exercise 7\n",
    "\n",
    "\n",
    "\n",
    "\n",
    "#### Make [this test](/edit/session5/helper.py) pass: `helper.py:HelperTest:test_p2pkh_address`"
   ]
  },
  {
   "cell_type": "code",
   "execution_count": 118,
   "id": "0a4228d3",
   "metadata": {},
   "outputs": [
    {
     "output_type": "stream",
     "name": "stderr",
     "text": [
      ".\n",
      "----------------------------------------------------------------------\n",
      "Ran 1 test in 0.002s\n",
      "\n",
      "OK\n"
     ]
    }
   ],
   "source": [
    "# Exercise 7\n",
    "\n",
    "reload(helper)\n",
    "run(helper.HelperTest('test_p2pkh_address'))"
   ]
  },
  {
   "cell_type": "markdown",
   "id": "f1cd253f",
   "metadata": {},
   "source": [
    "### Exercise 8\n",
    "\n",
    "\n",
    "\n",
    "\n",
    "#### Make [this test](/edit/session5/helper.py) pass: `helper.py:HelperTest:test_p2sh_address`"
   ]
  },
  {
   "cell_type": "code",
   "execution_count": 119,
   "id": "1229a3a5",
   "metadata": {},
   "outputs": [
    {
     "output_type": "stream",
     "name": "stderr",
     "text": [
      ".\n",
      "----------------------------------------------------------------------\n",
      "Ran 1 test in 0.003s\n",
      "\n",
      "OK\n"
     ]
    }
   ],
   "source": [
    "# Exercise 8\n",
    "\n",
    "reload(helper)\n",
    "run(helper.HelperTest('test_p2sh_address'))"
   ]
  },
  {
   "cell_type": "markdown",
   "id": "47541b28",
   "metadata": {},
   "source": [
    "### Exercise 9\n",
    "\n",
    "\n",
    "\n",
    "\n",
    "#### Make [this test](/edit/session5/script.py) pass: `script.py:ScriptTest:test_address`"
   ]
  },
  {
   "cell_type": "code",
   "execution_count": 120,
   "id": "63d6e3dd",
   "metadata": {},
   "outputs": [
    {
     "output_type": "stream",
     "name": "stderr",
     "text": [
      ".\n",
      "----------------------------------------------------------------------\n",
      "Ran 1 test in 0.004s\n",
      "\n",
      "OK\n"
     ]
    }
   ],
   "source": [
    "# Exercise 9\n",
    "\n",
    "reload(script)\n",
    "run(script.ScriptTest('test_address'))"
   ]
  },
  {
   "cell_type": "code",
   "execution_count": 121,
   "id": "7fadec74",
   "metadata": {},
   "outputs": [
    {
     "output_type": "stream",
     "name": "stdout",
     "text": [
      "0xe71bfa115715d6fd33796948126f40a8cdd39f187e4afb03896795189fe1423c\n"
     ]
    }
   ],
   "source": [
    "# z for p2sh example\n",
    "from helper import hash256\n",
    "h256 = hash256(bytes.fromhex('0100000001868278ed6ddfb6c1ed3ad5f8181eb0c7a385aa0836f01d5e4789e6bd304d87221a000000475221022626e955ea6ea6d98850c994f9107b036b1334f18ca8830bfff1295d21cfdb702103b287eaf122eea69030a0e9feed096bed8045c8b98bec453e1ffac7fbdbd4bb7152aeffffffff04d3b11400000000001976a914904a49878c0adfc3aa05de7afad2cc15f483a56a88ac7f400900000000001976a914418327e3f3dda4cf5b9089325a4b95abdfa0334088ac722c0c00000000001976a914ba35042cfe9fc66fd35ac2224eebdafd1028ad2788acdc4ace020000000017a91474d691da1574e6b3c192ecfb52cc8984ee7b6c56870000000001000000'))\n",
    "z = int.from_bytes(h256, 'big')\n",
    "print(hex(z))"
   ]
  },
  {
   "cell_type": "code",
   "execution_count": 111,
   "id": "5f90c988",
   "metadata": {},
   "outputs": [
    {
     "output_type": "stream",
     "name": "stdout",
     "text": [
      "True\n"
     ]
    }
   ],
   "source": [
    "# p2sh verification example\n",
    "from ecc import S256Point, Signature\n",
    "from helper import hash256\n",
    "h256 = hash256(bytes.fromhex('0100000001868278ed6ddfb6c1ed3ad5f8181eb0c7a385aa0836f01d5e4789e6bd304d87221a000000475221022626e955ea6ea6d98850c994f9107b036b1334f18ca8830bfff1295d21cfdb702103b287eaf122eea69030a0e9feed096bed8045c8b98bec453e1ffac7fbdbd4bb7152aeffffffff04d3b11400000000001976a914904a49878c0adfc3aa05de7afad2cc15f483a56a88ac7f400900000000001976a914418327e3f3dda4cf5b9089325a4b95abdfa0334088ac722c0c00000000001976a914ba35042cfe9fc66fd35ac2224eebdafd1028ad2788acdc4ace020000000017a91474d691da1574e6b3c192ecfb52cc8984ee7b6c56870000000001000000'))\n",
    "z = int.from_bytes(h256, 'big')\n",
    "point = S256Point.parse(bytes.fromhex('022626e955ea6ea6d98850c994f9107b036b1334f18ca8830bfff1295d21cfdb70'))\n",
    "sig = Signature.parse(bytes.fromhex('3045022100dc92655fe37036f47756db8102e0d7d5e28b3beb83a8fef4f5dc0559bddfb94e02205a36d4e4e6c7fcd16658c50783e00c341609977aed3ad00937bf4ee942a89937'))\n",
    "print(point.verify(z, sig))"
   ]
  },
  {
   "cell_type": "markdown",
   "id": "5e9cdf3b",
   "metadata": {},
   "source": [
    "### Exercise 10\n",
    "Validate the second signature of the first input\n",
    "\n",
    "```\n",
    "0100000001868278ed6ddfb6c1ed3ad5f8181eb0c7a385aa0836f01d5e4789e6bd304d87221a000000db00483045022100dc92655fe37036f47756db8102e0d7d5e28b3beb83a8fef4f5dc0559bddfb94e02205a36d4e4e6c7fcd16658c50783e00c341609977aed3ad00937bf4ee942a8993701483045022100da6bee3c93766232079a01639d07fa869598749729ae323eab8eef53577d611b02207bef15429dcadce2121ea07f233115c6f09034c0be68db99980b9a6c5e75402201475221022626e955ea6ea6d98850c994f9107b036b1334f18ca8830bfff1295d21cfdb702103b287eaf122eea69030a0e9feed096bed8045c8b98bec453e1ffac7fbdbd4bb7152aeffffffff04d3b11400000000001976a914904a49878c0adfc3aa05de7afad2cc15f483a56a88ac7f400900000000001976a914418327e3f3dda4cf5b9089325a4b95abdfa0334088ac722c0c00000000001976a914ba35042cfe9fc66fd35ac2224eebdafd1028ad2788acdc4ace020000000017a91474d691da1574e6b3c192ecfb52cc8984ee7b6c568700000000\n",
    "```\n",
    "\n",
    "The sec pubkey of the second signature is:\n",
    "```\n",
    "03b287eaf122eea69030a0e9feed096bed8045c8b98bec453e1ffac7fbdbd4bb71\n",
    "```\n",
    "\n",
    "The der signature of the second signature is:\n",
    "```\n",
    "3045022100da6bee3c93766232079a01639d07fa869598749729ae323eab8eef53577d611b02207bef15429dcadce2121ea07f233115c6f09034c0be68db99980b9a6c5e75402201475221022\n",
    "```\n",
    "\n",
    "The redeemScript is:\n",
    "```\n",
    "475221022626e955ea6ea6d98850c994f9107b036b1334f18ca8830bfff1295d21cfdb702103b287eaf122eea69030a0e9feed096bed8045c8b98bec453e1ffac7fbdbd4bb7152ae\n",
    "```\n"
   ]
  },
  {
   "cell_type": "code",
   "execution_count": 122,
   "id": "e0efa804",
   "metadata": {},
   "outputs": [
    {
     "output_type": "stream",
     "name": "stdout",
     "text": [
      "True\n"
     ]
    }
   ],
   "source": [
    "# Exercise 10\n",
    "\n",
    "from io import BytesIO\n",
    "from ecc import S256Point, Signature\n",
    "from helper import int_to_little_endian, SIGHASH_ALL\n",
    "from script import Script\n",
    "from tx import Tx\n",
    "hex_sec = '03b287eaf122eea69030a0e9feed096bed8045c8b98bec453e1ffac7fbdbd4bb71'\n",
    "hex_der = '3045022100da6bee3c93766232079a01639d07fa869598749729ae323eab8eef53577d611b02207bef15429dcadce2121ea07f233115c6f09034c0be68db99980b9a6c5e754022'\n",
    "hex_redeem_script = '475221022626e955ea6ea6d98850c994f9107b036b1334f18ca8830bfff1295d21cfdb702103b287eaf122eea69030a0e9feed096bed8045c8b98bec453e1ffac7fbdbd4bb7152ae'\n",
    "sec = bytes.fromhex(hex_sec)\n",
    "der = bytes.fromhex(hex_der)\n",
    "redeem_script_stream = BytesIO(bytes.fromhex(hex_redeem_script))\n",
    "redeem_script = Script.parse(redeem_script_stream)\n",
    "hex_tx = '0100000001868278ed6ddfb6c1ed3ad5f8181eb0c7a385aa0836f01d5e4789e6bd304d87221a000000db00483045022100dc92655fe37036f47756db8102e0d7d5e28b3beb83a8fef4f5dc0559bddfb94e02205a36d4e4e6c7fcd16658c50783e00c341609977aed3ad00937bf4ee942a8993701483045022100da6bee3c93766232079a01639d07fa869598749729ae323eab8eef53577d611b02207bef15429dcadce2121ea07f233115c6f09034c0be68db99980b9a6c5e75402201475221022626e955ea6ea6d98850c994f9107b036b1334f18ca8830bfff1295d21cfdb702103b287eaf122eea69030a0e9feed096bed8045c8b98bec453e1ffac7fbdbd4bb7152aeffffffff04d3b11400000000001976a914904a49878c0adfc3aa05de7afad2cc15f483a56a88ac7f400900000000001976a914418327e3f3dda4cf5b9089325a4b95abdfa0334088ac722c0c00000000001976a914ba35042cfe9fc66fd35ac2224eebdafd1028ad2788acdc4ace020000000017a91474d691da1574e6b3c192ecfb52cc8984ee7b6c568700000000'\n",
    "stream = BytesIO(bytes.fromhex(hex_tx))\n",
    "# parse the S256Point and Signature\n",
    "point = S256Point.parse(sec) \n",
    "sig = Signature.parse(der) \n",
    "# parse the Tx\n",
    "t = Tx.parse(stream) \n",
    "# change the first input's ScriptSig to RedeemScript\n",
    "t.tx_ins[0].script_sig = redeem_script\n",
    "# get the serialization\n",
    "ser = t.serialize() \n",
    "# add the sighash (4 bytes, little-endian of SIGHASH_ALL)\n",
    "ser += int_to_little_endian(SIGHASH_ALL, 4) \n",
    "# hash256 the result\n",
    "h256 = hash256(ser) \n",
    "# your z is the hash256 as a big-endian number: use int.from_bytes(x, 'big')\n",
    "z = int.from_bytes(h256, 'big') \n",
    "# now verify the signature using point.verify\n",
    "print(point.verify(z, sig))\n"
   ]
  },
  {
   "cell_type": "code",
   "execution_count": null,
   "metadata": {},
   "outputs": [],
   "source": []
  }
 ],
 "metadata": {
  "kernelspec": {
   "name": "python394jvsc74a57bd089aca9ea00a738503437ec83eeb74c7494da0ff55fcc5fe5248da860e25fc079",
   "display_name": "Python 3.9.4 64-bit"
  },
  "metadata": {
   "interpreter": {
    "hash": "89aca9ea00a738503437ec83eeb74c7494da0ff55fcc5fe5248da860e25fc079"
   }
  }
 },
 "nbformat": 4,
 "nbformat_minor": 5
}